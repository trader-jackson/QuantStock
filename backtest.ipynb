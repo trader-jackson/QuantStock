{
 "cells": [
  {
   "cell_type": "code",
   "execution_count": 1,
   "metadata": {},
   "outputs": [],
   "source": [
    "import os\n",
    "import torch\n",
    "from pm.PM_transformer import PM_Transformer\n",
    "from stock_data_handle import Stock_Data\n",
    "import pandas as pd\n",
    "from utils.tools import dict_to_namespace"
   ]
  },
  {
   "cell_type": "code",
   "execution_count": 6,
   "metadata": {},
   "outputs": [
    {
     "data": {
      "text/plain": [
       "namespace(model='Transformer',\n",
       "          project_name='DOW30',\n",
       "          root_path='data_dir',\n",
       "          data_dict={'DOW30': {'dataset_name': 'DOW',\n",
       "                      'full_stock_path': 'DOW30'},\n",
       "                     'SSE30': {'dataset_name': 'SSE',\n",
       "                      'full_stock_path': 'SSE50'},\n",
       "                     'NASDAQ100': {'dataset_name': 'NAS',\n",
       "                      'full_stock_path': 'NASQ100'}},\n",
       "          seq_len=60,\n",
       "          prediction_len=5,\n",
       "          rank_alpha=1,\n",
       "          batch_size=32,\n",
       "          num_workers=1,\n",
       "          learning_rate=0.0003,\n",
       "          train_epochs=50,\n",
       "          use_multi_gpu=False,\n",
       "          use_gpu=True,\n",
       "          enc_in=13,\n",
       "          dec_in=13,\n",
       "          c_out=1,\n",
       "          d_model=256,\n",
       "          n_heads=4,\n",
       "          e_layers=2,\n",
       "          d_layers=1,\n",
       "          d_ff=512,\n",
       "          dropout=0.3,\n",
       "          activation='gelu',\n",
       "          device=device(type='cuda', index=0))"
      ]
     },
     "execution_count": 6,
     "metadata": {},
     "output_type": "execute_result"
    }
   ],
   "source": [
    "import json\n",
    "\n",
    "# Load the JSON file\n",
    "with open(\"model_config\\\\transformer_config.json\", \"r\") as f:\n",
    "    config_dict = json.load(f)\n",
    "\n",
    "args = dict_to_namespace(config_dict)\n",
    "\n",
    "# Now you can do:\n",
    "device = torch.device(\"cuda:0\" if args.use_gpu else \"cpu\")\n",
    "args.device = device\n",
    "\n",
    "# And also:\n",
    "args"
   ]
  },
  {
   "cell_type": "code",
   "execution_count": 3,
   "metadata": {},
   "outputs": [
    {
     "name": "stderr",
     "output_type": "stream",
     "text": [
      "c:\\code\\Honour\\src\\pred-methods\\stock_data_handle.py:42: FutureWarning: The behavior of DataFrame concatenation with empty or all-NA entries is deprecated. In a future version, this will no longer exclude empty or all-NA columns when determining the result dtypes. To retain the old behavior, exclude the relevant entries before the concat operation.\n",
      "  df = pd.concat((df, temp_df))\n"
     ]
    },
    {
     "name": "stdout",
     "output_type": "stream",
     "text": [
      "Generate covariate matrix...\n",
      "data shape:  (3515, 29, 42)\n",
      "label shape:  (1, 3515, 29)\n",
      "Price shape:  (3515, 29)\n"
     ]
    }
   ],
   "source": [
    "project_name = args.project_name\n",
    "stock_data = Stock_Data(dataset_name=args.data_dict[project_name][\"dataset_name\"], full_stock_path=args.data_dict[project_name][\"full_stock_path\"],\n",
    "                            window_size=args.seq_len, root_path=args.root_path, prediction_len=args.prediction_len, scale=True)\n",
    "    "
   ]
  },
  {
   "cell_type": "code",
   "execution_count": 7,
   "metadata": {},
   "outputs": [
    {
     "name": "stderr",
     "output_type": "stream",
     "text": [
      "2025-04-19 20:37:05,414 - PM_Transformer - INFO - Initializing model with log directory: log\\pred_DOW30_Transformer\n",
      "2025-04-19 20:37:05,415 - PM_Transformer - INFO - Log file created at log\\pred_DOW30_Transformer\\PM_Transformer.log\n"
     ]
    },
    {
     "name": "stdout",
     "output_type": "stream",
     "text": [
      "\n",
      "========================================\n",
      "Testing model type: Transformer\n",
      "Use GPU: cuda:cuda\n"
     ]
    }
   ],
   "source": [
    "model_type=\"Transformer\"\n",
    "print(\"\\n\" + \"=\"*40)\n",
    "print(\"Testing model type:\", model_type)\n",
    "args.model = model_type\n",
    "exp = PM_Transformer(args, stock_data)"
   ]
  },
  {
   "cell_type": "code",
   "execution_count": null,
   "metadata": {},
   "outputs": [
    {
     "name": "stderr",
     "output_type": "stream",
     "text": [
      "2025-04-19 20:37:09,254 - PM_Transformer - INFO - Starting training for Transformer model\n",
      "2025-04-19 20:37:09,256 - PM_Transformer - INFO - Training epochs: 50, Steps per epoch: 77\n",
      "2025-04-19 20:39:42,812 - PM_Transformer - INFO - Epoch 1: Train Loss: 0.0883383, Valid Loss: 0.0017050, Test Loss: 0.0018502\n",
      "2025-04-19 20:39:42,815 - PM_Transformer - INFO - mirr_top1/train: 0.0030489321782967292\n",
      "2025-04-19 20:39:42,815 - PM_Transformer - INFO - rank_ic/train: -0.0076045882438456934\n",
      "2025-04-19 20:39:42,816 - PM_Transformer - INFO - mirr_top1/valid: 0.0022016080177348595\n",
      "2025-04-19 20:39:42,817 - PM_Transformer - INFO - rank_ic/valid: -0.006717853286147096\n",
      "2025-04-19 20:39:42,817 - PM_Transformer - INFO - mirr_top1/test: -0.0011788445214430492\n",
      "2025-04-19 20:39:42,818 - PM_Transformer - INFO - rank_ic/test: -0.007828269673424676\n",
      "2025-04-19 20:39:42,842 - PM_Transformer - INFO - Model checkpoint saved: ./checkpoints/transformer\\checkpoint_1.pth\n",
      "2025-04-19 20:39:42,843 - PM_Transformer - INFO - New best model at epoch 1 with validation loss: 0.0017050\n"
     ]
    }
   ],
   "source": [
    "exp.train()"
   ]
  },
  {
   "cell_type": "code",
   "execution_count": 6,
   "metadata": {},
   "outputs": [
    {
     "data": {
      "text/plain": [
       "<All keys matched successfully>"
      ]
     },
     "execution_count": 6,
     "metadata": {},
     "output_type": "execute_result"
    }
   ],
   "source": [
    "best_model_path = os.path.join(\"checkpoints\\\\transformer\", f\"checkpoint_{1}.pth\")\n",
    "exp.model.load_state_dict(torch.load(best_model_path))"
   ]
  },
  {
   "cell_type": "code",
   "execution_count": 7,
   "metadata": {},
   "outputs": [
    {
     "name": "stderr",
     "output_type": "stream",
     "text": [
      "2025-04-19 02:09:47,553 - PM_Transformer - INFO - \n",
      "── Back‑test ─────────────────────────────────────────\n",
      "2025-04-19 02:09:47,554 - PM_Transformer - INFO - top‑1 | hold 5‑d\n",
      "2025-04-19 02:09:47,554 - PM_Transformer - INFO - Sharpe       : -0.1591\n",
      "2025-04-19 02:09:47,556 - PM_Transformer - INFO - Sortino      : -0.2490\n",
      "2025-04-19 02:09:47,556 - PM_Transformer - INFO - Max DD       : -0.5752\n",
      "2025-04-19 02:09:47,557 - PM_Transformer - INFO - Ann. Return  : -0.1204\n",
      "2025-04-19 02:09:47,557 - PM_Transformer - INFO - Total Return : -0.3177\n",
      "2025-04-19 02:09:47,558 - PM_Transformer - INFO - \n",
      "Benchmark (Market Avg):\n",
      "2025-04-19 02:09:47,558 - PM_Transformer - INFO - Sharpe       : 0.4685\n",
      "2025-04-19 02:09:47,559 - PM_Transformer - INFO - Sortino      : 0.6832\n",
      "2025-04-19 02:09:47,560 - PM_Transformer - INFO - Max DD       : -0.2156\n",
      "2025-04-19 02:09:47,560 - PM_Transformer - INFO - Ann. Return  : 0.0599\n",
      "2025-04-19 02:09:47,561 - PM_Transformer - INFO - Total Return : 0.1892\n",
      "2025-04-19 02:09:47,561 - PM_Transformer - INFO - \n",
      "Information Ratio: -0.3946\n",
      "2025-04-19 02:09:47,562 - PM_Transformer - INFO - Trading days: 751\n",
      "2025-04-19 02:09:47,567 - PM_Transformer - INFO - Saved performance to log\\backtest_results\\Transformer\\perf_top1_hold5.csv\n"
     ]
    }
   ],
   "source": [
    "exp.backtest(topk=1,holding_period=5)"
   ]
  },
  {
   "cell_type": "code",
   "execution_count": 8,
   "metadata": {},
   "outputs": [
    {
     "name": "stderr",
     "output_type": "stream",
     "text": [
      "2025-04-19 02:09:52,908 - PM_Transformer - INFO - \n",
      "── Back‑test ─────────────────────────────────────────\n",
      "2025-04-19 02:09:52,908 - PM_Transformer - INFO - top‑10 | hold 5‑d\n",
      "2025-04-19 02:09:52,909 - PM_Transformer - INFO - Sharpe       : 0.2468\n",
      "2025-04-19 02:09:52,909 - PM_Transformer - INFO - Sortino      : 0.3629\n",
      "2025-04-19 02:09:52,910 - PM_Transformer - INFO - Max DD       : -0.2725\n",
      "2025-04-19 02:09:52,910 - PM_Transformer - INFO - Ann. Return  : 0.0280\n",
      "2025-04-19 02:09:52,911 - PM_Transformer - INFO - Total Return : 0.0858\n",
      "2025-04-19 02:09:52,911 - PM_Transformer - INFO - \n",
      "Benchmark (Market Avg):\n",
      "2025-04-19 02:09:52,912 - PM_Transformer - INFO - Sharpe       : 0.4685\n",
      "2025-04-19 02:09:52,913 - PM_Transformer - INFO - Sortino      : 0.6832\n",
      "2025-04-19 02:09:52,913 - PM_Transformer - INFO - Max DD       : -0.2156\n",
      "2025-04-19 02:09:52,914 - PM_Transformer - INFO - Ann. Return  : 0.0599\n",
      "2025-04-19 02:09:52,914 - PM_Transformer - INFO - Total Return : 0.1892\n",
      "2025-04-19 02:09:52,915 - PM_Transformer - INFO - \n",
      "Information Ratio: -0.4147\n",
      "2025-04-19 02:09:52,915 - PM_Transformer - INFO - Trading days: 751\n",
      "2025-04-19 02:09:52,920 - PM_Transformer - INFO - Saved performance to log\\backtest_results\\Transformer\\perf_top10_hold5.csv\n"
     ]
    }
   ],
   "source": [
    "exp.backtest(topk=10,holding_period=5)"
   ]
  },
  {
   "cell_type": "markdown",
   "metadata": {},
   "source": [
    "# LSTM"
   ]
  },
  {
   "cell_type": "code",
   "execution_count": 7,
   "metadata": {},
   "outputs": [],
   "source": [
    "import os\n",
    "import torch\n",
    "from pm.PM_lstm import PM_LSTM\n",
    "from stock_data_handle import Stock_Data\n",
    "import pandas as pd\n",
    "from utils.tools import dict_to_namespace"
   ]
  },
  {
   "cell_type": "code",
   "execution_count": 8,
   "metadata": {},
   "outputs": [
    {
     "data": {
      "text/plain": [
       "namespace(model='ALSTM',\n",
       "          project_name='DOW30',\n",
       "          root_path='data_dir',\n",
       "          data_dict={'DOW30': {'dataset_name': 'DOW',\n",
       "                      'full_stock_path': 'DOW30'},\n",
       "                     'SSE30': {'dataset_name': 'SSE',\n",
       "                      'full_stock_path': 'SSE50'},\n",
       "                     'NASDAQ100': {'dataset_name': 'NAS',\n",
       "                      'full_stock_path': 'NASQ100'}},\n",
       "          seq_len=20,\n",
       "          prediction_len=1,\n",
       "          rank_alpha=3,\n",
       "          batch_size=32,\n",
       "          num_workers=1,\n",
       "          learning_rate=0.0001,\n",
       "          train_epochs=30,\n",
       "          use_multi_gpu=False,\n",
       "          use_gpu=True,\n",
       "          model_config={'input_size': 5,\n",
       "                        'hidden_size': 32,\n",
       "                        'num_layers': 1,\n",
       "                        'dropout': 0.3,\n",
       "                        'bidirectional': False,\n",
       "                        'attention': True,\n",
       "                        'noise_level': 0.02,\n",
       "                        'd_ff': 64,\n",
       "                        'c_out': 1},\n",
       "          device=device(type='cuda', index=0))"
      ]
     },
     "execution_count": 8,
     "metadata": {},
     "output_type": "execute_result"
    }
   ],
   "source": [
    "import json\n",
    "\n",
    "# Load the JSON file\n",
    "with open(\"model_config\\\\alstm_config.json\", \"r\") as f:\n",
    "    config_dict = json.load(f)\n",
    "\n",
    "args = dict_to_namespace(config_dict)\n",
    "\n",
    "# Now you can do:\n",
    "device = torch.device(\"cuda:0\" if args.use_gpu else \"cpu\")\n",
    "args.device = device\n",
    "\n",
    "# And also:\n",
    "args"
   ]
  },
  {
   "cell_type": "code",
   "execution_count": 9,
   "metadata": {},
   "outputs": [
    {
     "name": "stderr",
     "output_type": "stream",
     "text": [
      "c:\\code\\Honour\\src\\pred-methods\\stock_data_handle.py:42: FutureWarning: The behavior of DataFrame concatenation with empty or all-NA entries is deprecated. In a future version, this will no longer exclude empty or all-NA columns when determining the result dtypes. To retain the old behavior, exclude the relevant entries before the concat operation.\n",
      "  df = pd.concat((df, temp_df))\n"
     ]
    },
    {
     "name": "stdout",
     "output_type": "stream",
     "text": [
      "Generate covariate matrix...\n",
      "data shape:  (3519, 29, 42)\n",
      "label shape:  (1, 3519, 29)\n",
      "Price shape:  (3519, 29)\n"
     ]
    }
   ],
   "source": [
    "project_name = args.project_name\n",
    "stock_data = Stock_Data(dataset_name=args.data_dict[project_name][\"dataset_name\"], full_stock_path=args.data_dict[project_name][\"full_stock_path\"],\n",
    "                            window_size=args.seq_len, root_path=args.root_path, prediction_len=args.prediction_len, scale=True)\n",
    "    "
   ]
  },
  {
   "cell_type": "code",
   "execution_count": 10,
   "metadata": {},
   "outputs": [
    {
     "name": "stderr",
     "output_type": "stream",
     "text": [
      "c:\\Users\\gaomi\\anaconda3\\envs\\RL\\lib\\site-packages\\torch\\nn\\modules\\rnn.py:123: UserWarning: dropout option adds dropout after all but last recurrent layer, so non-zero dropout expects num_layers greater than 1, but got dropout=0.3 and num_layers=1\n",
      "  warnings.warn(\n",
      "2025-04-19 05:48:11,160 - PM_ALSTM - INFO - Initializing model with log directory: log\\pred_DOW30_ALSTM\n",
      "2025-04-19 05:48:11,161 - PM_ALSTM - INFO - Log file created at log\\pred_DOW30_ALSTM\\PM_ALSTM.log\n"
     ]
    },
    {
     "name": "stdout",
     "output_type": "stream",
     "text": [
      "\n",
      "========================================\n",
      "Testing model type: ALSTM\n",
      "Use GPU: cuda:cuda\n"
     ]
    }
   ],
   "source": [
    "model_type=\"ALSTM\"\n",
    "print(\"\\n\" + \"=\"*40)\n",
    "print(\"Testing model type:\", model_type)\n",
    "args.model = model_type\n",
    "exp = PM_LSTM(args, stock_data)"
   ]
  },
  {
   "cell_type": "code",
   "execution_count": 11,
   "metadata": {},
   "outputs": [
    {
     "name": "stderr",
     "output_type": "stream",
     "text": [
      "2025-04-19 05:48:11,172 - PM_ALSTM - INFO - LSTM training start: epochs=30, batch_size=32\n",
      "2025-04-19 05:48:23,399 - PM_ALSTM - INFO - Epoch 1: Train 0.000428, Valid 0.000309, Test 0.000348\n",
      "2025-04-19 05:48:23,402 - PM_ALSTM - INFO - mirr_top1/train: 0.0008787806198084488\n",
      "2025-04-19 05:48:23,405 - PM_ALSTM - INFO - rank_ic/train: 0.0028788818563809594\n",
      "2025-04-19 05:48:23,407 - PM_ALSTM - INFO - mirr_top1/valid: 0.00015890973356916854\n",
      "2025-04-19 05:48:23,409 - PM_ALSTM - INFO - rank_ic/valid: -0.012730247140189171\n",
      "2025-04-19 05:48:23,411 - PM_ALSTM - INFO - mirr_top1/test: 0.0003213355722393663\n",
      "2025-04-19 05:48:23,412 - PM_ALSTM - INFO - rank_ic/test: -0.004561787599556212\n",
      "2025-04-19 05:48:23,415 - PM_ALSTM - INFO - Best updated at epoch 1, Val 0.000309\n",
      "2025-04-19 05:48:35,197 - PM_ALSTM - INFO - Epoch 2: Train 0.000306, Valid 0.000284, Test 0.000308\n",
      "2025-04-19 05:48:35,198 - PM_ALSTM - INFO - mirr_top1/train: 0.0006342994928649531\n",
      "2025-04-19 05:48:35,199 - PM_ALSTM - INFO - rank_ic/train: 0.00040033581001045566\n",
      "2025-04-19 05:48:35,199 - PM_ALSTM - INFO - mirr_top1/valid: 0.0002836866238478409\n",
      "2025-04-19 05:48:35,200 - PM_ALSTM - INFO - rank_ic/valid: 0.017746027893880915\n",
      "2025-04-19 05:48:35,201 - PM_ALSTM - INFO - mirr_top1/test: 0.0006221301224459672\n",
      "2025-04-19 05:48:35,201 - PM_ALSTM - INFO - rank_ic/test: 0.021256292451245502\n",
      "2025-04-19 05:48:35,209 - PM_ALSTM - INFO - Best updated at epoch 2, Val 0.000284\n",
      "2025-04-19 05:48:46,975 - PM_ALSTM - INFO - Epoch 3: Train 0.000287, Valid 0.000278, Test 0.000302\n",
      "2025-04-19 05:48:46,977 - PM_ALSTM - INFO - mirr_top1/train: 0.0005036167248573082\n",
      "2025-04-19 05:48:46,978 - PM_ALSTM - INFO - rank_ic/train: 0.0012830293738483952\n",
      "2025-04-19 05:48:46,978 - PM_ALSTM - INFO - mirr_top1/valid: 0.0008440496939052221\n",
      "2025-04-19 05:48:46,979 - PM_ALSTM - INFO - rank_ic/valid: 0.013807817345700973\n",
      "2025-04-19 05:48:46,979 - PM_ALSTM - INFO - mirr_top1/test: -0.00012385715741575475\n",
      "2025-04-19 05:48:46,980 - PM_ALSTM - INFO - rank_ic/test: 0.004564703398174709\n",
      "2025-04-19 05:48:46,982 - PM_ALSTM - INFO - Best updated at epoch 3, Val 0.000278\n",
      "2025-04-19 05:48:59,116 - PM_ALSTM - INFO - Epoch 4: Train 0.000276, Valid 0.000275, Test 0.000300\n",
      "2025-04-19 05:48:59,118 - PM_ALSTM - INFO - mirr_top1/train: 0.00047967285102528805\n",
      "2025-04-19 05:48:59,119 - PM_ALSTM - INFO - rank_ic/train: 0.0013850642804616679\n",
      "2025-04-19 05:48:59,119 - PM_ALSTM - INFO - mirr_top1/valid: 0.0008111853410651827\n",
      "2025-04-19 05:48:59,119 - PM_ALSTM - INFO - rank_ic/valid: 0.007614714079037493\n",
      "2025-04-19 05:48:59,120 - PM_ALSTM - INFO - mirr_top1/test: -0.0006375332387895989\n",
      "2025-04-19 05:48:59,120 - PM_ALSTM - INFO - rank_ic/test: 0.0037070391482450873\n",
      "2025-04-19 05:48:59,124 - PM_ALSTM - INFO - Best updated at epoch 4, Val 0.000275\n",
      "2025-04-19 05:49:11,211 - PM_ALSTM - INFO - Epoch 5: Train 0.000270, Valid 0.000273, Test 0.000298\n",
      "2025-04-19 05:49:11,214 - PM_ALSTM - INFO - mirr_top1/train: 0.0005364125053463981\n",
      "2025-04-19 05:49:11,215 - PM_ALSTM - INFO - rank_ic/train: 0.0016690655555959661\n",
      "2025-04-19 05:49:11,216 - PM_ALSTM - INFO - mirr_top1/valid: 0.0009038317467733893\n",
      "2025-04-19 05:49:11,217 - PM_ALSTM - INFO - rank_ic/valid: 0.0007449332552967603\n",
      "2025-04-19 05:49:11,217 - PM_ALSTM - INFO - mirr_top1/test: -0.0011392142318765678\n",
      "2025-04-19 05:49:11,220 - PM_ALSTM - INFO - rank_ic/test: -0.0008180968275559467\n",
      "2025-04-19 05:49:11,224 - PM_ALSTM - INFO - Best updated at epoch 5, Val 0.000273\n",
      "2025-04-19 05:49:23,917 - PM_ALSTM - INFO - Epoch 6: Train 0.000267, Valid 0.000273, Test 0.000298\n",
      "2025-04-19 05:49:23,920 - PM_ALSTM - INFO - mirr_top1/train: 0.000512874744928036\n",
      "2025-04-19 05:49:23,922 - PM_ALSTM - INFO - rank_ic/train: 0.0023347283379387923\n",
      "2025-04-19 05:49:23,924 - PM_ALSTM - INFO - mirr_top1/valid: 0.0009737392424342587\n",
      "2025-04-19 05:49:23,925 - PM_ALSTM - INFO - rank_ic/valid: -0.002536018063916182\n",
      "2025-04-19 05:49:23,927 - PM_ALSTM - INFO - mirr_top1/test: -0.0009120480702092339\n",
      "2025-04-19 05:49:23,930 - PM_ALSTM - INFO - rank_ic/test: -0.011280942847054966\n",
      "2025-04-19 05:49:23,935 - PM_ALSTM - INFO - Best updated at epoch 6, Val 0.000273\n",
      "2025-04-19 05:49:37,938 - PM_ALSTM - INFO - Epoch 7: Train 0.000265, Valid 0.000276, Test 0.000304\n",
      "2025-04-19 05:49:37,947 - PM_ALSTM - INFO - mirr_top1/train: 0.0005201031940037405\n",
      "2025-04-19 05:49:37,951 - PM_ALSTM - INFO - rank_ic/train: 0.0018941969788331902\n",
      "2025-04-19 05:49:37,954 - PM_ALSTM - INFO - mirr_top1/valid: 6.661799220044328e-05\n",
      "2025-04-19 05:49:37,957 - PM_ALSTM - INFO - rank_ic/valid: 0.008791354780892578\n",
      "2025-04-19 05:49:37,959 - PM_ALSTM - INFO - mirr_top1/test: -0.0013330020176778948\n",
      "2025-04-19 05:49:37,960 - PM_ALSTM - INFO - rank_ic/test: 0.0014983471167176003\n",
      "2025-04-19 05:49:51,630 - PM_ALSTM - INFO - Epoch 8: Train 0.000265, Valid 0.000273, Test 0.000298\n",
      "2025-04-19 05:49:51,638 - PM_ALSTM - INFO - mirr_top1/train: 0.0005772630193883416\n",
      "2025-04-19 05:49:51,639 - PM_ALSTM - INFO - rank_ic/train: 0.0020703230492562686\n",
      "2025-04-19 05:49:51,640 - PM_ALSTM - INFO - mirr_top1/valid: 0.00038362443497728395\n",
      "2025-04-19 05:49:51,641 - PM_ALSTM - INFO - rank_ic/valid: 0.011651313330095925\n",
      "2025-04-19 05:49:51,643 - PM_ALSTM - INFO - mirr_top1/test: -0.0013922470472087817\n",
      "2025-04-19 05:49:51,644 - PM_ALSTM - INFO - rank_ic/test: 0.00010042500813802982\n",
      "2025-04-19 05:50:05,514 - PM_ALSTM - INFO - Epoch 9: Train 0.000264, Valid 0.000271, Test 0.000294\n",
      "2025-04-19 05:50:05,519 - PM_ALSTM - INFO - mirr_top1/train: 0.0005994212465092773\n",
      "2025-04-19 05:50:05,520 - PM_ALSTM - INFO - rank_ic/train: 0.0017645657389199288\n",
      "2025-04-19 05:50:05,522 - PM_ALSTM - INFO - mirr_top1/valid: 0.0008127339773953123\n",
      "2025-04-19 05:50:05,523 - PM_ALSTM - INFO - rank_ic/valid: 0.007822196471103817\n",
      "2025-04-19 05:50:05,524 - PM_ALSTM - INFO - mirr_top1/test: 0.0006907284814154817\n",
      "2025-04-19 05:50:05,525 - PM_ALSTM - INFO - rank_ic/test: 0.014433783444531112\n",
      "2025-04-19 05:50:05,532 - PM_ALSTM - INFO - Best updated at epoch 9, Val 0.000271\n",
      "2025-04-19 05:50:19,334 - PM_ALSTM - INFO - Epoch 10: Train 0.000264, Valid 0.000271, Test 0.000295\n",
      "2025-04-19 05:50:19,345 - PM_ALSTM - INFO - mirr_top1/train: 0.000582645830955022\n",
      "2025-04-19 05:50:19,347 - PM_ALSTM - INFO - rank_ic/train: 0.001878662124175913\n",
      "2025-04-19 05:50:19,349 - PM_ALSTM - INFO - mirr_top1/valid: 0.00043011765418391997\n",
      "2025-04-19 05:50:19,350 - PM_ALSTM - INFO - rank_ic/valid: -0.006253355363961445\n",
      "2025-04-19 05:50:19,353 - PM_ALSTM - INFO - mirr_top1/test: -0.0006230690688382657\n",
      "2025-04-19 05:50:19,356 - PM_ALSTM - INFO - rank_ic/test: -0.008045253822382258\n",
      "2025-04-19 05:50:19,364 - PM_ALSTM - INFO - Best updated at epoch 10, Val 0.000271\n",
      "2025-04-19 05:50:33,695 - PM_ALSTM - INFO - Epoch 11: Train 0.000265, Valid 0.000272, Test 0.000296\n",
      "2025-04-19 05:50:33,706 - PM_ALSTM - INFO - mirr_top1/train: 0.0005491503635377977\n",
      "2025-04-19 05:50:33,707 - PM_ALSTM - INFO - rank_ic/train: 0.0011014759611917026\n",
      "2025-04-19 05:50:33,710 - PM_ALSTM - INFO - mirr_top1/valid: 0.0002517473969972976\n",
      "2025-04-19 05:50:33,711 - PM_ALSTM - INFO - rank_ic/valid: -0.004125627316230409\n",
      "2025-04-19 05:50:33,713 - PM_ALSTM - INFO - mirr_top1/test: -0.000316031019402934\n",
      "2025-04-19 05:50:33,715 - PM_ALSTM - INFO - rank_ic/test: -0.0008158954968995722\n",
      "2025-04-19 05:50:48,197 - PM_ALSTM - INFO - Epoch 12: Train 0.000263, Valid 0.000271, Test 0.000296\n",
      "2025-04-19 05:50:48,207 - PM_ALSTM - INFO - mirr_top1/train: 0.0005806818322821333\n",
      "2025-04-19 05:50:48,208 - PM_ALSTM - INFO - rank_ic/train: 0.00063700394631681\n",
      "2025-04-19 05:50:48,209 - PM_ALSTM - INFO - mirr_top1/valid: 0.00014506555200331724\n",
      "2025-04-19 05:50:48,210 - PM_ALSTM - INFO - rank_ic/valid: 0.0032367683845965743\n",
      "2025-04-19 05:50:48,213 - PM_ALSTM - INFO - mirr_top1/test: -0.0013145567888083558\n",
      "2025-04-19 05:50:48,215 - PM_ALSTM - INFO - rank_ic/test: 0.0056166329292084895\n",
      "2025-04-19 05:50:48,231 - PM_ALSTM - INFO - Best updated at epoch 12, Val 0.000271\n",
      "2025-04-19 05:51:02,615 - PM_ALSTM - INFO - Epoch 13: Train 0.000264, Valid 0.000274, Test 0.000298\n",
      "2025-04-19 05:51:02,622 - PM_ALSTM - INFO - mirr_top1/train: 0.0005860293291348879\n",
      "2025-04-19 05:51:02,623 - PM_ALSTM - INFO - rank_ic/train: 0.0010760138293199617\n",
      "2025-04-19 05:51:02,625 - PM_ALSTM - INFO - mirr_top1/valid: 0.00038673068680193114\n",
      "2025-04-19 05:51:02,626 - PM_ALSTM - INFO - rank_ic/valid: -0.0008841616377385473\n",
      "2025-04-19 05:51:02,627 - PM_ALSTM - INFO - mirr_top1/test: -0.000556212448004988\n",
      "2025-04-19 05:51:02,628 - PM_ALSTM - INFO - rank_ic/test: -0.0045691157689584415\n",
      "2025-04-19 05:51:16,889 - PM_ALSTM - INFO - Epoch 14: Train 0.000263, Valid 0.000272, Test 0.000297\n",
      "2025-04-19 05:51:16,898 - PM_ALSTM - INFO - mirr_top1/train: 0.0006101216414398361\n",
      "2025-04-19 05:51:16,900 - PM_ALSTM - INFO - rank_ic/train: 0.0009579489900462706\n",
      "2025-04-19 05:51:16,902 - PM_ALSTM - INFO - mirr_top1/valid: 0.0006867733989012144\n",
      "2025-04-19 05:51:16,903 - PM_ALSTM - INFO - rank_ic/valid: 0.006784099001092558\n",
      "2025-04-19 05:51:16,906 - PM_ALSTM - INFO - mirr_top1/test: 0.0007352259874876056\n",
      "2025-04-19 05:51:16,909 - PM_ALSTM - INFO - rank_ic/test: 0.009853677737197423\n",
      "2025-04-19 05:51:30,818 - PM_ALSTM - INFO - Epoch 15: Train 0.000264, Valid 0.000271, Test 0.000295\n",
      "2025-04-19 05:51:30,829 - PM_ALSTM - INFO - mirr_top1/train: 0.0006127423177469267\n",
      "2025-04-19 05:51:30,830 - PM_ALSTM - INFO - rank_ic/train: 0.0013399084166714323\n",
      "2025-04-19 05:51:30,832 - PM_ALSTM - INFO - mirr_top1/valid: 0.0007074539392741154\n",
      "2025-04-19 05:51:30,833 - PM_ALSTM - INFO - rank_ic/valid: 0.004984998469809934\n",
      "2025-04-19 05:51:30,836 - PM_ALSTM - INFO - mirr_top1/test: 0.0004492699822765731\n",
      "2025-04-19 05:51:30,837 - PM_ALSTM - INFO - rank_ic/test: 0.01543732959988047\n",
      "2025-04-19 05:51:43,073 - PM_ALSTM - INFO - Epoch 16: Train 0.000262, Valid 0.000272, Test 0.000297\n",
      "2025-04-19 05:51:43,086 - PM_ALSTM - INFO - mirr_top1/train: 0.0006119417793786105\n",
      "2025-04-19 05:51:43,087 - PM_ALSTM - INFO - rank_ic/train: 0.0011311853323774572\n",
      "2025-04-19 05:51:43,091 - PM_ALSTM - INFO - mirr_top1/valid: 0.00028310843955968386\n",
      "2025-04-19 05:51:43,097 - PM_ALSTM - INFO - rank_ic/valid: 0.006375820176303238\n",
      "2025-04-19 05:51:43,099 - PM_ALSTM - INFO - mirr_top1/test: -0.0002227388821276171\n",
      "2025-04-19 05:51:43,101 - PM_ALSTM - INFO - rank_ic/test: 0.009033386592493926\n",
      "2025-04-19 05:51:54,977 - PM_ALSTM - INFO - Epoch 17: Train 0.000264, Valid 0.000271, Test 0.000293\n",
      "2025-04-19 05:51:54,984 - PM_ALSTM - INFO - mirr_top1/train: 0.0006327183031012427\n",
      "2025-04-19 05:51:54,985 - PM_ALSTM - INFO - rank_ic/train: 0.0012391340220782407\n",
      "2025-04-19 05:51:54,986 - PM_ALSTM - INFO - mirr_top1/valid: 0.0005505595864910308\n",
      "2025-04-19 05:51:54,986 - PM_ALSTM - INFO - rank_ic/valid: 0.01919976430450901\n",
      "2025-04-19 05:51:54,987 - PM_ALSTM - INFO - mirr_top1/test: 0.0004513394988385872\n",
      "2025-04-19 05:51:54,988 - PM_ALSTM - INFO - rank_ic/test: 0.011134314984382578\n",
      "2025-04-19 05:52:06,410 - PM_ALSTM - INFO - Epoch 18: Train 0.000263, Valid 0.000278, Test 0.000305\n",
      "2025-04-19 05:52:06,417 - PM_ALSTM - INFO - mirr_top1/train: 0.0006568973787782145\n",
      "2025-04-19 05:52:06,418 - PM_ALSTM - INFO - rank_ic/train: 0.0012985001016482354\n",
      "2025-04-19 05:52:06,418 - PM_ALSTM - INFO - mirr_top1/valid: 6.520723083825862e-05\n",
      "2025-04-19 05:52:06,419 - PM_ALSTM - INFO - rank_ic/valid: 0.009168844537718449\n",
      "2025-04-19 05:52:06,419 - PM_ALSTM - INFO - mirr_top1/test: -0.000414384961394327\n",
      "2025-04-19 05:52:06,420 - PM_ALSTM - INFO - rank_ic/test: -0.001569469049921916\n",
      "2025-04-19 05:52:18,006 - PM_ALSTM - INFO - Epoch 19: Train 0.000263, Valid 0.000278, Test 0.000307\n",
      "2025-04-19 05:52:18,010 - PM_ALSTM - INFO - mirr_top1/train: 0.0006621606936866031\n",
      "2025-04-19 05:52:18,010 - PM_ALSTM - INFO - rank_ic/train: 0.0014245780295447925\n",
      "2025-04-19 05:52:18,011 - PM_ALSTM - INFO - mirr_top1/valid: 0.00012081646380703087\n",
      "2025-04-19 05:52:18,012 - PM_ALSTM - INFO - rank_ic/valid: 0.009575785165096311\n",
      "2025-04-19 05:52:18,012 - PM_ALSTM - INFO - mirr_top1/test: -0.0014077601164379822\n",
      "2025-04-19 05:52:18,013 - PM_ALSTM - INFO - rank_ic/test: -0.0022534083369850355\n",
      "2025-04-19 05:52:31,652 - PM_ALSTM - INFO - Epoch 20: Train 0.000263, Valid 0.000275, Test 0.000300\n",
      "2025-04-19 05:52:31,664 - PM_ALSTM - INFO - mirr_top1/train: 0.0006629300331275236\n",
      "2025-04-19 05:52:31,665 - PM_ALSTM - INFO - rank_ic/train: 0.0011546958242986416\n",
      "2025-04-19 05:52:31,667 - PM_ALSTM - INFO - mirr_top1/valid: 6.987225851448981e-05\n",
      "2025-04-19 05:52:31,669 - PM_ALSTM - INFO - rank_ic/valid: 0.0014992421159858885\n",
      "2025-04-19 05:52:31,670 - PM_ALSTM - INFO - mirr_top1/test: -0.0011987249488897977\n",
      "2025-04-19 05:52:31,671 - PM_ALSTM - INFO - rank_ic/test: -0.002899962954414173\n",
      "2025-04-19 05:52:45,599 - PM_ALSTM - INFO - Epoch 21: Train 0.000263, Valid 0.000280, Test 0.000310\n",
      "2025-04-19 05:52:45,611 - PM_ALSTM - INFO - mirr_top1/train: 0.0006696694438135785\n",
      "2025-04-19 05:52:45,614 - PM_ALSTM - INFO - rank_ic/train: 0.0012027975930391308\n",
      "2025-04-19 05:52:45,616 - PM_ALSTM - INFO - mirr_top1/valid: 0.0005811779378943712\n",
      "2025-04-19 05:52:45,617 - PM_ALSTM - INFO - rank_ic/valid: 0.014047434949803775\n",
      "2025-04-19 05:52:45,618 - PM_ALSTM - INFO - mirr_top1/test: -1.2112606782466173e-05\n",
      "2025-04-19 05:52:45,620 - PM_ALSTM - INFO - rank_ic/test: 0.008949826732491178\n",
      "2025-04-19 05:52:59,789 - PM_ALSTM - INFO - Epoch 22: Train 0.000264, Valid 0.000275, Test 0.000301\n",
      "2025-04-19 05:52:59,801 - PM_ALSTM - INFO - mirr_top1/train: 0.0006876408457801496\n",
      "2025-04-19 05:52:59,802 - PM_ALSTM - INFO - rank_ic/train: 0.0011394228718815036\n",
      "2025-04-19 05:52:59,805 - PM_ALSTM - INFO - mirr_top1/valid: 0.0002241694753098747\n",
      "2025-04-19 05:52:59,806 - PM_ALSTM - INFO - rank_ic/valid: 0.004526521271352328\n",
      "2025-04-19 05:52:59,807 - PM_ALSTM - INFO - mirr_top1/test: -0.000351229613269901\n",
      "2025-04-19 05:52:59,809 - PM_ALSTM - INFO - rank_ic/test: -0.0004024544911906573\n",
      "2025-04-19 05:53:13,714 - PM_ALSTM - INFO - Epoch 23: Train 0.000262, Valid 0.000274, Test 0.000300\n",
      "2025-04-19 05:53:13,723 - PM_ALSTM - INFO - mirr_top1/train: 0.0006970990964152732\n",
      "2025-04-19 05:53:13,724 - PM_ALSTM - INFO - rank_ic/train: 0.0009590755560652673\n",
      "2025-04-19 05:53:13,725 - PM_ALSTM - INFO - mirr_top1/valid: -0.00011199967095466411\n",
      "2025-04-19 05:53:13,727 - PM_ALSTM - INFO - rank_ic/valid: -0.002842559341935581\n",
      "2025-04-19 05:53:13,729 - PM_ALSTM - INFO - mirr_top1/test: -0.000849455290119208\n",
      "2025-04-19 05:53:13,731 - PM_ALSTM - INFO - rank_ic/test: -0.004429104723088294\n",
      "2025-04-19 05:53:26,754 - PM_ALSTM - INFO - Epoch 24: Train 0.000262, Valid 0.000271, Test 0.000294\n",
      "2025-04-19 05:53:26,767 - PM_ALSTM - INFO - mirr_top1/train: 0.0007045220095395239\n",
      "2025-04-19 05:53:26,770 - PM_ALSTM - INFO - rank_ic/train: 0.0010894108864384442\n",
      "2025-04-19 05:53:26,771 - PM_ALSTM - INFO - mirr_top1/valid: 0.0006074468838050961\n",
      "2025-04-19 05:53:26,773 - PM_ALSTM - INFO - rank_ic/valid: -0.01120289226022799\n",
      "2025-04-19 05:53:26,776 - PM_ALSTM - INFO - mirr_top1/test: 0.0001224840192922524\n",
      "2025-04-19 05:53:26,780 - PM_ALSTM - INFO - rank_ic/test: -0.016655679889647754\n",
      "2025-04-19 05:53:40,903 - PM_ALSTM - INFO - Epoch 25: Train 0.000262, Valid 0.000271, Test 0.000296\n",
      "2025-04-19 05:53:40,917 - PM_ALSTM - INFO - mirr_top1/train: 0.0007147500016174326\n",
      "2025-04-19 05:53:40,919 - PM_ALSTM - INFO - rank_ic/train: 0.001107292115007435\n",
      "2025-04-19 05:53:40,925 - PM_ALSTM - INFO - mirr_top1/valid: 6.500136552621488e-05\n",
      "2025-04-19 05:53:40,926 - PM_ALSTM - INFO - rank_ic/valid: 0.005493007162942832\n",
      "2025-04-19 05:53:40,927 - PM_ALSTM - INFO - mirr_top1/test: -0.0008153606738362994\n",
      "2025-04-19 05:53:40,928 - PM_ALSTM - INFO - rank_ic/test: -0.0027394223276446337\n",
      "2025-04-19 05:53:55,108 - PM_ALSTM - INFO - Epoch 26: Train 0.000262, Valid 0.000271, Test 0.000294\n",
      "2025-04-19 05:53:55,117 - PM_ALSTM - INFO - mirr_top1/train: 0.0007166511158564397\n",
      "2025-04-19 05:53:55,120 - PM_ALSTM - INFO - rank_ic/train: 0.001003947124842819\n",
      "2025-04-19 05:53:55,122 - PM_ALSTM - INFO - mirr_top1/valid: -0.00029262565278812593\n",
      "2025-04-19 05:53:55,123 - PM_ALSTM - INFO - rank_ic/valid: -0.0004859298433761147\n",
      "2025-04-19 05:53:55,124 - PM_ALSTM - INFO - mirr_top1/test: -0.0007530004770073685\n",
      "2025-04-19 05:53:55,125 - PM_ALSTM - INFO - rank_ic/test: -0.00411316946245821\n",
      "2025-04-19 05:53:55,139 - PM_ALSTM - INFO - Best updated at epoch 26, Val 0.000271\n",
      "2025-04-19 05:54:09,446 - PM_ALSTM - INFO - Epoch 27: Train 0.000263, Valid 0.000271, Test 0.000295\n",
      "2025-04-19 05:54:09,461 - PM_ALSTM - INFO - mirr_top1/train: 0.000708674491550738\n",
      "2025-04-19 05:54:09,463 - PM_ALSTM - INFO - rank_ic/train: 0.0011029347999219731\n",
      "2025-04-19 05:54:09,465 - PM_ALSTM - INFO - mirr_top1/valid: -0.00036285221374229246\n",
      "2025-04-19 05:54:09,467 - PM_ALSTM - INFO - rank_ic/valid: -0.004051330139778631\n",
      "2025-04-19 05:54:09,471 - PM_ALSTM - INFO - mirr_top1/test: -0.0006564040224821795\n",
      "2025-04-19 05:54:09,474 - PM_ALSTM - INFO - rank_ic/test: 0.000716182905258974\n",
      "2025-04-19 05:54:09,487 - PM_ALSTM - INFO - Best updated at epoch 27, Val 0.000271\n",
      "2025-04-19 05:54:22,613 - PM_ALSTM - INFO - Epoch 28: Train 0.000262, Valid 0.000278, Test 0.000307\n",
      "2025-04-19 05:54:22,619 - PM_ALSTM - INFO - mirr_top1/train: 0.0007133916082598811\n",
      "2025-04-19 05:54:22,620 - PM_ALSTM - INFO - rank_ic/train: 0.0012262956061284244\n",
      "2025-04-19 05:54:22,621 - PM_ALSTM - INFO - mirr_top1/valid: 0.0005838154263429991\n",
      "2025-04-19 05:54:22,621 - PM_ALSTM - INFO - rank_ic/valid: 0.0019322827706804097\n",
      "2025-04-19 05:54:22,622 - PM_ALSTM - INFO - mirr_top1/test: -0.0003500510591991423\n",
      "2025-04-19 05:54:22,624 - PM_ALSTM - INFO - rank_ic/test: -0.009497427583287685\n",
      "2025-04-19 05:54:34,811 - PM_ALSTM - INFO - Epoch 29: Train 0.000262, Valid 0.000272, Test 0.000297\n",
      "2025-04-19 05:54:34,823 - PM_ALSTM - INFO - mirr_top1/train: 0.0007215359354986431\n",
      "2025-04-19 05:54:34,825 - PM_ALSTM - INFO - rank_ic/train: 0.0012555965136850423\n",
      "2025-04-19 05:54:34,827 - PM_ALSTM - INFO - mirr_top1/valid: -0.00022738847031217554\n",
      "2025-04-19 05:54:34,827 - PM_ALSTM - INFO - rank_ic/valid: 0.010751758043901908\n",
      "2025-04-19 05:54:34,829 - PM_ALSTM - INFO - mirr_top1/test: -0.0010734497599991127\n",
      "2025-04-19 05:54:34,832 - PM_ALSTM - INFO - rank_ic/test: 0.004734771502307791\n",
      "2025-04-19 05:54:48,966 - PM_ALSTM - INFO - Epoch 30: Train 0.000262, Valid 0.000271, Test 0.000293\n",
      "2025-04-19 05:54:48,979 - PM_ALSTM - INFO - mirr_top1/train: 0.000720641347736371\n",
      "2025-04-19 05:54:48,981 - PM_ALSTM - INFO - rank_ic/train: 0.0013009169913256661\n",
      "2025-04-19 05:54:48,983 - PM_ALSTM - INFO - mirr_top1/valid: 0.0014173936771998262\n",
      "2025-04-19 05:54:48,983 - PM_ALSTM - INFO - rank_ic/valid: 0.003031961049591464\n",
      "2025-04-19 05:54:48,984 - PM_ALSTM - INFO - mirr_top1/test: 0.000927028440249463\n",
      "2025-04-19 05:54:48,986 - PM_ALSTM - INFO - rank_ic/test: 0.0012447139037846482\n",
      "2025-04-19 05:54:49,727 - PM_ALSTM - INFO - Metric plots saved to log\\plots\\ALSTM\n",
      "2025-04-19 05:54:49,769 - PM_ALSTM - INFO - Training complete. Loading epoch 27\n"
     ]
    },
    {
     "data": {
      "text/plain": [
       "LSTM(\n",
       "  (input_drop): Dropout(p=0.3, inplace=False)\n",
       "  (rnn): LSTM(5, 32, batch_first=True, dropout=0.3)\n",
       "  (W): Linear(in_features=32, out_features=32, bias=True)\n",
       "  (u): Linear(in_features=32, out_features=1, bias=False)\n",
       "  (projection): Sequential(\n",
       "    (0): Linear(in_features=64, out_features=64, bias=True)\n",
       "    (1): GELU(approximate='none')\n",
       "    (2): Linear(in_features=64, out_features=1, bias=True)\n",
       "  )\n",
       ")"
      ]
     },
     "execution_count": 11,
     "metadata": {},
     "output_type": "execute_result"
    }
   ],
   "source": [
    "exp.train()"
   ]
  },
  {
   "cell_type": "code",
   "execution_count": 12,
   "metadata": {},
   "outputs": [
    {
     "name": "stderr",
     "output_type": "stream",
     "text": [
      "2025-04-19 05:56:37,464 - PM_ALSTM - INFO - \n",
      "── Back-test Results ────────────────────────────\n",
      "2025-04-19 05:56:37,465 - PM_ALSTM - INFO - top-5, hold 3: Sharpe -0.1933, Sortino -0.3078, MaxDD -0.2578, AnnRet -0.0584\n",
      "2025-04-19 05:56:37,465 - PM_ALSTM - INFO - Benchmark: Sharpe 0.5801, Sortino 0.8285, MaxDD -0.1941, AnnRet 0.0769\n",
      "2025-04-19 05:56:37,466 - PM_ALSTM - INFO - Info Ratio: -1.1168\n",
      "2025-04-19 05:56:37,472 - PM_ALSTM - INFO - Saved backtest CSV to log\\backtest_results\\ALSTM\\perf_top5_hold3.csv\n"
     ]
    }
   ],
   "source": [
    "exp.backtest(topk=5,holding_period=3)"
   ]
  }
 ],
 "metadata": {
  "kernelspec": {
   "display_name": "RL",
   "language": "python",
   "name": "python3"
  },
  "language_info": {
   "codemirror_mode": {
    "name": "ipython",
    "version": 3
   },
   "file_extension": ".py",
   "mimetype": "text/x-python",
   "name": "python",
   "nbconvert_exporter": "python",
   "pygments_lexer": "ipython3",
   "version": "3.10.16"
  }
 },
 "nbformat": 4,
 "nbformat_minor": 2
}
