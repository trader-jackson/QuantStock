{
 "cells": [
  {
   "cell_type": "code",
   "execution_count": 1,
   "metadata": {},
   "outputs": [],
   "source": [
    "import os\n",
    "import torch\n",
    "from PM_transformer import PM_Transformer\n",
    "from stock_data_handle import Stock_Data\n",
    "import pandas as pd\n",
    "from utils.tools import dict_to_namespace"
   ]
  },
  {
   "cell_type": "code",
   "execution_count": 2,
   "metadata": {},
   "outputs": [
    {
     "data": {
      "text/plain": [
       "namespace(model='Transformer',\n",
       "          project_name='DOW30',\n",
       "          root_path='data_dir',\n",
       "          data_dict={'DOW30': {'dataset_name': 'DOW',\n",
       "                      'full_stock_path': 'DOW30'},\n",
       "                     'SSE30': {'dataset_name': 'SSE',\n",
       "                      'full_stock_path': 'SSE50'},\n",
       "                     'NASDAQ100': {'dataset_name': 'NAS',\n",
       "                      'full_stock_path': 'NASQ100'}},\n",
       "          seq_len=60,\n",
       "          prediction_len=1,\n",
       "          rank_alpha=1,\n",
       "          batch_size=32,\n",
       "          num_workers=1,\n",
       "          learning_rate=0.001,\n",
       "          train_epochs=50,\n",
       "          use_multi_gpu=False,\n",
       "          use_gpu=True,\n",
       "          enc_in=5,\n",
       "          dec_in=5,\n",
       "          c_out=1,\n",
       "          d_model=128,\n",
       "          n_heads=4,\n",
       "          e_layers=2,\n",
       "          d_layers=1,\n",
       "          d_ff=256,\n",
       "          dropout=0.05,\n",
       "          activation='gelu',\n",
       "          device=device(type='cuda', index=0))"
      ]
     },
     "execution_count": 2,
     "metadata": {},
     "output_type": "execute_result"
    }
   ],
   "source": [
    "import json\n",
    "\n",
    "# Load the JSON file\n",
    "with open(\"model_config\\\\transformer_config.json\", \"r\") as f:\n",
    "    config_dict = json.load(f)\n",
    "\n",
    "args = dict_to_namespace(config_dict)\n",
    "\n",
    "# Now you can do:\n",
    "device = torch.device(\"cuda:0\" if args.use_gpu else \"cpu\")\n",
    "args.device = device\n",
    "\n",
    "# And also:\n",
    "args"
   ]
  },
  {
   "cell_type": "code",
   "execution_count": 3,
   "metadata": {},
   "outputs": [
    {
     "name": "stderr",
     "output_type": "stream",
     "text": [
      "c:\\code\\Quant\\Honour\\src\\pred-methods\\stock_data_handle.py:42: FutureWarning: The behavior of DataFrame concatenation with empty or all-NA entries is deprecated. In a future version, this will no longer exclude empty or all-NA columns when determining the result dtypes. To retain the old behavior, exclude the relevant entries before the concat operation.\n",
      "  df = pd.concat((df, temp_df))\n"
     ]
    },
    {
     "name": "stdout",
     "output_type": "stream",
     "text": [
      "Generate covariate matrix...\n",
      "data shape:  (3519, 29, 42)\n",
      "label shape:  (1, 3519, 29)\n",
      "Price shape:  (3519, 29)\n"
     ]
    }
   ],
   "source": [
    "project_name = args.project_name\n",
    "stock_data = Stock_Data(dataset_name=args.data_dict[project_name][\"dataset_name\"], full_stock_path=args.data_dict[project_name][\"full_stock_path\"],\n",
    "                            window_size=args.seq_len, root_path=args.root_path, prediction_len=args.prediction_len, scale=True)\n",
    "    "
   ]
  },
  {
   "cell_type": "code",
   "execution_count": 4,
   "metadata": {},
   "outputs": [
    {
     "name": "stderr",
     "output_type": "stream",
     "text": [
      "2025-04-18 23:15:43,460 - PM_Transformer - INFO - Initializing model with log directory: log\\pred_DOW30_Transformer\n"
     ]
    },
    {
     "name": "stdout",
     "output_type": "stream",
     "text": [
      "\n",
      "========================================\n",
      "Testing model type: Transformer\n",
      "Use GPU: cuda:cuda\n"
     ]
    },
    {
     "name": "stderr",
     "output_type": "stream",
     "text": [
      "2025-04-18 23:15:43,461 - PM_Transformer - INFO - Log file created at log\\pred_DOW30_Transformer\\PM_Transformer.log\n"
     ]
    }
   ],
   "source": [
    "model_type=\"Transformer\"\n",
    "print(\"\\n\" + \"=\"*40)\n",
    "print(\"Testing model type:\", model_type)\n",
    "args.model = model_type\n",
    "exp = PM_Transformer(args, stock_data)"
   ]
  },
  {
   "cell_type": "code",
   "execution_count": 5,
   "metadata": {},
   "outputs": [
    {
     "ename": "AttributeError",
     "evalue": "'types.SimpleNamespace' object has no attribute 'pred_type'",
     "output_type": "error",
     "traceback": [
      "\u001b[1;31m---------------------------------------------------------------------------\u001b[0m",
      "\u001b[1;31mAttributeError\u001b[0m                            Traceback (most recent call last)",
      "Cell \u001b[1;32mIn[5], line 1\u001b[0m\n\u001b[1;32m----> 1\u001b[0m \u001b[43mexp\u001b[49m\u001b[38;5;241;43m.\u001b[39;49m\u001b[43mtrain\u001b[49m\u001b[43m(\u001b[49m\u001b[43m)\u001b[49m\n",
      "File \u001b[1;32mc:\\code\\Quant\\Honour\\src\\pred-methods\\PM_transformer.py:51\u001b[0m, in \u001b[0;36mPM_Transformer.train\u001b[1;34m(self)\u001b[0m\n\u001b[0;32m     50\u001b[0m \u001b[38;5;28;01mdef\u001b[39;00m\u001b[38;5;250m \u001b[39m\u001b[38;5;21mtrain\u001b[39m(\u001b[38;5;28mself\u001b[39m):\n\u001b[1;32m---> 51\u001b[0m     _, train_loader \u001b[38;5;241m=\u001b[39m \u001b[38;5;28;43mself\u001b[39;49m\u001b[38;5;241;43m.\u001b[39;49m\u001b[43m_get_data\u001b[49m\u001b[43m(\u001b[49m\u001b[43mflag\u001b[49m\u001b[38;5;241;43m=\u001b[39;49m\u001b[38;5;124;43m\"\u001b[39;49m\u001b[38;5;124;43mtrain\u001b[39;49m\u001b[38;5;124;43m\"\u001b[39;49m\u001b[43m)\u001b[49m\n\u001b[0;32m     52\u001b[0m     _, vali_loader \u001b[38;5;241m=\u001b[39m \u001b[38;5;28mself\u001b[39m\u001b[38;5;241m.\u001b[39m_get_data(flag\u001b[38;5;241m=\u001b[39m\u001b[38;5;124m\"\u001b[39m\u001b[38;5;124mvalid\u001b[39m\u001b[38;5;124m\"\u001b[39m)\n\u001b[0;32m     53\u001b[0m     _, test_loader \u001b[38;5;241m=\u001b[39m \u001b[38;5;28mself\u001b[39m\u001b[38;5;241m.\u001b[39m_get_data(flag\u001b[38;5;241m=\u001b[39m\u001b[38;5;124m\"\u001b[39m\u001b[38;5;124mtest\u001b[39m\u001b[38;5;124m\"\u001b[39m)\n",
      "File \u001b[1;32mc:\\code\\Quant\\Honour\\src\\pred-methods\\PM.py:79\u001b[0m, in \u001b[0;36mPM._get_data\u001b[1;34m(self, flag)\u001b[0m\n\u001b[0;32m     76\u001b[0m \u001b[38;5;28;01melse\u001b[39;00m:\n\u001b[0;32m     77\u001b[0m     shuffle_flag \u001b[38;5;241m=\u001b[39m \u001b[38;5;28;01mFalse\u001b[39;00m; drop_last \u001b[38;5;241m=\u001b[39m \u001b[38;5;28;01mTrue\u001b[39;00m; batch_size \u001b[38;5;241m=\u001b[39m args\u001b[38;5;241m.\u001b[39mbatch_size\n\u001b[1;32m---> 79\u001b[0m dataset \u001b[38;5;241m=\u001b[39m DatasetStock_PRED(\u001b[38;5;28mself\u001b[39m\u001b[38;5;241m.\u001b[39mdata_all, \u001b[38;5;28mtype\u001b[39m\u001b[38;5;241m=\u001b[39mflag, pred_type\u001b[38;5;241m=\u001b[39m\u001b[38;5;28;43mself\u001b[39;49m\u001b[38;5;241;43m.\u001b[39;49m\u001b[43margs\u001b[49m\u001b[38;5;241;43m.\u001b[39;49m\u001b[43mpred_type\u001b[49m)\n\u001b[0;32m     81\u001b[0m data_loader \u001b[38;5;241m=\u001b[39m DataLoader(\n\u001b[0;32m     82\u001b[0m     dataset,\n\u001b[0;32m     83\u001b[0m     batch_size\u001b[38;5;241m=\u001b[39mbatch_size,\n\u001b[0;32m     84\u001b[0m     shuffle\u001b[38;5;241m=\u001b[39mshuffle_flag,\n\u001b[0;32m     85\u001b[0m     num_workers\u001b[38;5;241m=\u001b[39margs\u001b[38;5;241m.\u001b[39mnum_workers,\n\u001b[0;32m     86\u001b[0m     drop_last\u001b[38;5;241m=\u001b[39mdrop_last)\n\u001b[0;32m     88\u001b[0m \u001b[38;5;28;01mreturn\u001b[39;00m dataset, data_loader\n",
      "\u001b[1;31mAttributeError\u001b[0m: 'types.SimpleNamespace' object has no attribute 'pred_type'"
     ]
    }
   ],
   "source": [
    "exp.train()"
   ]
  },
  {
   "cell_type": "code",
   "execution_count": null,
   "metadata": {},
   "outputs": [],
   "source": [
    "best_model_path = os.path.join(\"checkpoints\", f\"checkpoint_{47}.pth\")\n",
    "exp.model.load_state_dict(torch.load(best_model_path))"
   ]
  },
  {
   "cell_type": "code",
   "execution_count": null,
   "metadata": {},
   "outputs": [],
   "source": [
    "exp.backtest(topk=10,holding_period=3)"
   ]
  },
  {
   "cell_type": "code",
   "execution_count": null,
   "metadata": {},
   "outputs": [],
   "source": [
    "exp.backtest(topk=10,holding_period=5)"
   ]
  },
  {
   "cell_type": "code",
   "execution_count": 1,
   "metadata": {},
   "outputs": [],
   "source": [
    "import os\n",
    "import torch\n",
    "from PM_lstm import PM_LSTM\n",
    "from stock_data_handle import Stock_Data\n",
    "import pandas as pd\n",
    "from utils.tools import dict_to_namespace"
   ]
  },
  {
   "cell_type": "code",
   "execution_count": 2,
   "metadata": {},
   "outputs": [
    {
     "data": {
      "text/plain": [
       "namespace(model='LSTM',\n",
       "          project_name='DOW30',\n",
       "          root_path='data_dir',\n",
       "          data_dict={'DOW30': {'dataset_name': 'DOW',\n",
       "                      'full_stock_path': 'DOW30'},\n",
       "                     'SSE30': {'dataset_name': 'SSE',\n",
       "                      'full_stock_path': 'SSE50'},\n",
       "                     'NASDAQ100': {'dataset_name': 'NAS',\n",
       "                      'full_stock_path': 'NASQ100'}},\n",
       "          seq_len=60,\n",
       "          prediction_len=1,\n",
       "          rank_alpha=1,\n",
       "          batch_size=32,\n",
       "          num_workers=1,\n",
       "          learning_rate=0.001,\n",
       "          train_epochs=50,\n",
       "          use_multi_gpu=False,\n",
       "          use_gpu=True,\n",
       "          early_stopping=10,\n",
       "          model_config={'input_size': 5,\n",
       "                        'hidden_size': 128,\n",
       "                        'num_layers': 2,\n",
       "                        'dropout': 0.05,\n",
       "                        'bidirectional': True,\n",
       "                        'attention': True,\n",
       "                        'input_drop': 0.05,\n",
       "                        'noise_level': 0.0,\n",
       "                        'd_ff': 256,\n",
       "                        'c_out': 1},\n",
       "          device=device(type='cuda', index=0))"
      ]
     },
     "execution_count": 2,
     "metadata": {},
     "output_type": "execute_result"
    }
   ],
   "source": [
    "import json\n",
    "\n",
    "# Load the JSON file\n",
    "with open(\"model_config\\\\lstm_config.json\", \"r\") as f:\n",
    "    config_dict = json.load(f)\n",
    "\n",
    "args = dict_to_namespace(config_dict)\n",
    "\n",
    "# Now you can do:\n",
    "device = torch.device(\"cuda:0\" if args.use_gpu else \"cpu\")\n",
    "args.device = device\n",
    "\n",
    "# And also:\n",
    "args"
   ]
  },
  {
   "cell_type": "code",
   "execution_count": 3,
   "metadata": {},
   "outputs": [
    {
     "name": "stderr",
     "output_type": "stream",
     "text": [
      "c:\\code\\Quant\\Honour\\src\\pred-methods\\stock_data_handle.py:42: FutureWarning: The behavior of DataFrame concatenation with empty or all-NA entries is deprecated. In a future version, this will no longer exclude empty or all-NA columns when determining the result dtypes. To retain the old behavior, exclude the relevant entries before the concat operation.\n",
      "  df = pd.concat((df, temp_df))\n"
     ]
    },
    {
     "name": "stdout",
     "output_type": "stream",
     "text": [
      "Generate covariate matrix...\n",
      "data shape:  (3519, 29, 42)\n",
      "label shape:  (1, 3519, 29)\n",
      "Price shape:  (3519, 29)\n"
     ]
    }
   ],
   "source": [
    "project_name = args.project_name\n",
    "stock_data = Stock_Data(dataset_name=args.data_dict[project_name][\"dataset_name\"], full_stock_path=args.data_dict[project_name][\"full_stock_path\"],\n",
    "                            window_size=args.seq_len, root_path=args.root_path, prediction_len=args.prediction_len, scale=True)\n",
    "    "
   ]
  },
  {
   "cell_type": "code",
   "execution_count": 4,
   "metadata": {},
   "outputs": [
    {
     "name": "stdout",
     "output_type": "stream",
     "text": [
      "\n",
      "========================================\n",
      "Testing model type: LSTM\n",
      "Use GPU: cuda:cuda\n"
     ]
    },
    {
     "ename": "AttributeError",
     "evalue": "'types.SimpleNamespace' object has no attribute 'enc_in'",
     "output_type": "error",
     "traceback": [
      "\u001b[1;31m---------------------------------------------------------------------------\u001b[0m",
      "\u001b[1;31mAttributeError\u001b[0m                            Traceback (most recent call last)",
      "Cell \u001b[1;32mIn[4], line 5\u001b[0m\n\u001b[0;32m      3\u001b[0m \u001b[38;5;28mprint\u001b[39m(\u001b[38;5;124m\"\u001b[39m\u001b[38;5;124mTesting model type:\u001b[39m\u001b[38;5;124m\"\u001b[39m, model_type)\n\u001b[0;32m      4\u001b[0m args\u001b[38;5;241m.\u001b[39mmodel \u001b[38;5;241m=\u001b[39m model_type\n\u001b[1;32m----> 5\u001b[0m exp \u001b[38;5;241m=\u001b[39m \u001b[43mPM_LSTM\u001b[49m\u001b[43m(\u001b[49m\u001b[43margs\u001b[49m\u001b[43m,\u001b[49m\u001b[43m \u001b[49m\u001b[43mstock_data\u001b[49m\u001b[43m,\u001b[49m\u001b[43m \u001b[49m\u001b[43midentifier\u001b[49m\u001b[38;5;241;43m=\u001b[39;49m\u001b[38;5;124;43m\"\u001b[39;49m\u001b[38;5;124;43mtest\u001b[39;49m\u001b[38;5;124;43m\"\u001b[39;49m\u001b[43m)\u001b[49m\n",
      "File \u001b[1;32mc:\\code\\Quant\\Honour\\src\\pred-methods\\PM_lstm.py:12\u001b[0m, in \u001b[0;36mPM_LSTM.__init__\u001b[1;34m(self, args, data_all, identifier)\u001b[0m\n\u001b[0;32m     11\u001b[0m \u001b[38;5;28;01mdef\u001b[39;00m\u001b[38;5;250m \u001b[39m\u001b[38;5;21m__init__\u001b[39m(\u001b[38;5;28mself\u001b[39m, args, data_all, identifier):\n\u001b[1;32m---> 12\u001b[0m     \u001b[38;5;28;43msuper\u001b[39;49m\u001b[43m(\u001b[49m\u001b[43mPM_LSTM\u001b[49m\u001b[43m,\u001b[49m\u001b[43m \u001b[49m\u001b[38;5;28;43mself\u001b[39;49m\u001b[43m)\u001b[49m\u001b[38;5;241;43m.\u001b[39;49m\u001b[38;5;21;43m__init__\u001b[39;49m\u001b[43m(\u001b[49m\u001b[43margs\u001b[49m\u001b[43m,\u001b[49m\u001b[43m \u001b[49m\u001b[43mdata_all\u001b[49m\u001b[43m,\u001b[49m\u001b[43m \u001b[49m\u001b[43midentifier\u001b[49m\u001b[43m)\u001b[49m\n",
      "File \u001b[1;32mc:\\code\\Quant\\Honour\\src\\pred-methods\\PM.py:22\u001b[0m, in \u001b[0;36mPM.__init__\u001b[1;34m(self, args, data_all, identifier)\u001b[0m\n\u001b[0;32m     21\u001b[0m \u001b[38;5;28;01mdef\u001b[39;00m\u001b[38;5;250m \u001b[39m\u001b[38;5;21m__init__\u001b[39m(\u001b[38;5;28mself\u001b[39m, args, data_all,identifier):\n\u001b[1;32m---> 22\u001b[0m     \u001b[38;5;28;43msuper\u001b[39;49m\u001b[43m(\u001b[49m\u001b[43mPM\u001b[49m\u001b[43m,\u001b[49m\u001b[43m \u001b[49m\u001b[38;5;28;43mself\u001b[39;49m\u001b[43m)\u001b[49m\u001b[38;5;241;43m.\u001b[39;49m\u001b[38;5;21;43m__init__\u001b[39;49m\u001b[43m(\u001b[49m\u001b[43margs\u001b[49m\u001b[43m)\u001b[49m\n\u001b[0;32m     23\u001b[0m     log_dir \u001b[38;5;241m=\u001b[39m os\u001b[38;5;241m.\u001b[39mpath\u001b[38;5;241m.\u001b[39mjoin(\u001b[38;5;124m'\u001b[39m\u001b[38;5;124mlog\u001b[39m\u001b[38;5;124m'\u001b[39m, \u001b[38;5;124m'\u001b[39m\u001b[38;5;124mpred_\u001b[39m\u001b[38;5;124m'\u001b[39m \u001b[38;5;241m+\u001b[39m args\u001b[38;5;241m.\u001b[39mproject_name \u001b[38;5;241m+\u001b[39m \u001b[38;5;124m\"\u001b[39m\u001b[38;5;124m_\u001b[39m\u001b[38;5;124m\"\u001b[39m\u001b[38;5;241m+\u001b[39m\u001b[38;5;28mstr\u001b[39m(identifier))\n\u001b[0;32m     24\u001b[0m     \u001b[38;5;28;01mif\u001b[39;00m \u001b[38;5;129;01mnot\u001b[39;00m os\u001b[38;5;241m.\u001b[39mpath\u001b[38;5;241m.\u001b[39mexists(log_dir):\n",
      "File \u001b[1;32mc:\\code\\Quant\\Honour\\src\\pred-methods\\exp_basic.py:9\u001b[0m, in \u001b[0;36mExp_Basic.__init__\u001b[1;34m(self, args)\u001b[0m\n\u001b[0;32m      7\u001b[0m \u001b[38;5;28mself\u001b[39m\u001b[38;5;241m.\u001b[39margs \u001b[38;5;241m=\u001b[39m args\n\u001b[0;32m      8\u001b[0m \u001b[38;5;28mself\u001b[39m\u001b[38;5;241m.\u001b[39mdevice \u001b[38;5;241m=\u001b[39m \u001b[38;5;28mself\u001b[39m\u001b[38;5;241m.\u001b[39m_acquire_device()\n\u001b[1;32m----> 9\u001b[0m \u001b[38;5;28mself\u001b[39m\u001b[38;5;241m.\u001b[39mmodel \u001b[38;5;241m=\u001b[39m \u001b[38;5;28;43mself\u001b[39;49m\u001b[38;5;241;43m.\u001b[39;49m\u001b[43m_build_model\u001b[49m\u001b[43m(\u001b[49m\u001b[43m)\u001b[49m\u001b[38;5;241m.\u001b[39mto(\u001b[38;5;28mself\u001b[39m\u001b[38;5;241m.\u001b[39mdevice)\n",
      "File \u001b[1;32mc:\\code\\Quant\\Honour\\src\\pred-methods\\PM_lstm.py:15\u001b[0m, in \u001b[0;36mPM_LSTM._build_model\u001b[1;34m(self)\u001b[0m\n\u001b[0;32m     14\u001b[0m \u001b[38;5;28;01mdef\u001b[39;00m\u001b[38;5;250m \u001b[39m\u001b[38;5;21m_build_model\u001b[39m(\u001b[38;5;28mself\u001b[39m):\n\u001b[1;32m---> 15\u001b[0m     model \u001b[38;5;241m=\u001b[39m \u001b[43mLSTM\u001b[49m\u001b[43m(\u001b[49m\u001b[38;5;28;43mself\u001b[39;49m\u001b[38;5;241;43m.\u001b[39;49m\u001b[43margs\u001b[49m\u001b[43m)\u001b[49m\n\u001b[0;32m     16\u001b[0m     \u001b[38;5;28;01mreturn\u001b[39;00m model\u001b[38;5;241m.\u001b[39mfloat()\n",
      "File \u001b[1;32mc:\\code\\Quant\\Honour\\src\\pred-methods\\models\\LSTM.py:23\u001b[0m, in \u001b[0;36mLSTM.__init__\u001b[1;34m(self, configs)\u001b[0m\n\u001b[0;32m     20\u001b[0m \u001b[38;5;28;01mdef\u001b[39;00m\u001b[38;5;250m \u001b[39m\u001b[38;5;21m__init__\u001b[39m(\u001b[38;5;28mself\u001b[39m, configs):\n\u001b[0;32m     21\u001b[0m     \u001b[38;5;28msuper\u001b[39m()\u001b[38;5;241m.\u001b[39m\u001b[38;5;21m__init__\u001b[39m()\n\u001b[1;32m---> 23\u001b[0m     \u001b[38;5;28mself\u001b[39m\u001b[38;5;241m.\u001b[39minput_size \u001b[38;5;241m=\u001b[39m \u001b[43mconfigs\u001b[49m\u001b[38;5;241;43m.\u001b[39;49m\u001b[43menc_in\u001b[49m\n\u001b[0;32m     24\u001b[0m     \u001b[38;5;28mself\u001b[39m\u001b[38;5;241m.\u001b[39moutput_size \u001b[38;5;241m=\u001b[39m configs\u001b[38;5;241m.\u001b[39mc_out\n\u001b[0;32m     25\u001b[0m     \u001b[38;5;28mself\u001b[39m\u001b[38;5;241m.\u001b[39mhidden_size \u001b[38;5;241m=\u001b[39m configs\u001b[38;5;241m.\u001b[39md_model\n",
      "\u001b[1;31mAttributeError\u001b[0m: 'types.SimpleNamespace' object has no attribute 'enc_in'"
     ]
    }
   ],
   "source": [
    "model_type=\"LSTM\"\n",
    "print(\"\\n\" + \"=\"*40)\n",
    "print(\"Testing model type:\", model_type)\n",
    "args.model = model_type\n",
    "exp = PM_LSTM(args, stock_data, identifier=\"test\")"
   ]
  }
 ],
 "metadata": {
  "kernelspec": {
   "display_name": "RL",
   "language": "python",
   "name": "python3"
  },
  "language_info": {
   "codemirror_mode": {
    "name": "ipython",
    "version": 3
   },
   "file_extension": ".py",
   "mimetype": "text/x-python",
   "name": "python",
   "nbconvert_exporter": "python",
   "pygments_lexer": "ipython3",
   "version": "3.10.16"
  }
 },
 "nbformat": 4,
 "nbformat_minor": 2
}
